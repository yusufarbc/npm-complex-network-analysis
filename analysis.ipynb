{
  "cells": [
    {
      "cell_type": "markdown",
      "metadata": {},
      "source": [
        "# NPM Kompleks Ağ Analizi (Top 200)\n",
        "\n",
        "Bu defter, popüler Top 200 NPM paketini yönlü bir ağ (Dependent → Dependency) olarak modelleyip, in-degree ve betweenness merkeziyet metrikleriyle yapısal riski inceler. Kurulum adımlarını atlıyoruz; gerekli paketlerin yüklü olduğu varsayılır.\n",
        "\n",
        "- Veri: API'den çekilen Top N paket (varsayılan 200)\n",
        "- Ağ: NetworkX DiGraph, kenarlar Dependent → Dependency\n",
        "- Metrikler: In-degree, Betweenness\n",
        "- Çıktılar: `results/` altına kaydedilir\n",
        "- Görselleştirme: Tüm ağ ve sadece Top 200 indüklenmiş alt-ağ\n",
        "\n",
        "Not: Büyük N (ör. 20k) için bağımlılık çekimi ve betweenness hesabı maliyetlidir; bu defter Top 200 için optimize edilmiştir."
      ]
    },
    {
      "cell_type": "markdown",
      "metadata": {},
      "source": [
        "## 1) İçe Aktarım ve Parametreler\n",
        "Yardımcı fonksiyonlar `src/analyze_npm_network.py` içindedir. Varsayılan `OUTDIR` = `results/`."
      ]
    },
    {
      "cell_type": "code",
      "execution_count": null,
      "metadata": {},
      "outputs": [],
      "source": [
        "from pathlib import Path\n",
        "import sys\n",
        "import os\n",
        "\n",
        "# src klasörünü import yoluna ekle\n",
        "sys.path.append(str(Path('src').resolve()))\n",
        "\n",
        "import networkx as nx\n",
        "from analysis_helpers import (\n",
        "    fetch_top_packages,\n",
        "    build_dependency_graph,\n",
        "    compute_metrics,\n",
        "    save_edges,\n",
        "    save_metrics,\n",
        "    save_report,\n",
        "    read_list,\n",
        ")\n",
        "\n",
        "# Tercihen sabit Top 200 listesi\n",
        "TOP_N = 200  # gerekirse API'den çekmek için yedek\n",
        "OUTDIR = Path('results')\n",
        "OUTDIR.mkdir(parents=True, exist_ok=True)\n",
        "OUTDIR"
      ]
    },
    {
      "cell_type": "markdown",
      "metadata": {},
      "source": [
        "## 2) Top 200 Paketleri Yükle\n",
        "`data/top_200.txt` varsa kullan; yoksa API’lerden Top‑N çek."
      ]
    },
    {
      "cell_type": "code",
      "execution_count": null,
      "metadata": {},
      "outputs": [],
      "source": [
        "top_packages = fetch_top_packages(TOP_N)",
        "print(f'API’lerden {len(top_packages)} paket çekildi')",
        "len(top_packages), top_packages[:20]"
      ]
    },
    {
      "cell_type": "markdown",
      "metadata": {},
      "source": [
        "## 3) Yönlü Ağı Kur\n",
        "Düğümler paketler; kenarlar Dependent → Dependency. Varsayılan olarak yalnızca `dependencies` kullanılır."
      ]
    },
    {
      "cell_type": "code",
      "execution_count": null,
      "metadata": {},
      "outputs": [],
      "source": [
        "G, top_set = build_dependency_graph(top_packages)\n",
        "G.number_of_nodes(), G.number_of_edges()"
      ]
    },
    {
      "cell_type": "markdown",
      "metadata": {},
      "source": [
        "## 4) Merkeziyet Metrikleri\n",
        "- In-Degree: Düğüme gelen kenar → etkilenebilecek alan\n",
        "- Out-Degree: Düğümün dış bağımlılık sayısı → bağımlılık zinciri uzunluğu\n",
        "- Betweenness: En kısa yollardaki aracılık → tek hata noktası riski"
      ]
    },
    {
      "cell_type": "code",
      "execution_count": null,
      "metadata": {},
      "outputs": [],
      "source": [
        "in_deg, out_deg, btw = compute_metrics(G)\n",
        "nodes = G.number_of_nodes(); edges = G.number_of_edges()\n",
        "nodes, edges"
      ]
    },
    {
      "cell_type": "markdown",
      "metadata": {},
      "source": [
        "## 5) İlk 15 (Tüm Düğümler ve Kohort)\n",
        "In-degree ve betweenness açısından liderlere hızlı bakış (tüm düğümler ve sadece Top 200)."
      ]
    },
    {
      "cell_type": "code",
      "execution_count": null,
      "metadata": {},
      "outputs": [],
      "source": [
        "top_in_all = sorted(in_deg.items(), key=lambda kv: kv[1], reverse=True)[:15]\n",
        "top_btw_all = sorted(btw.items(), key=lambda kv: kv[1], reverse=True)[:15]\n",
        "top_in_top = sorted(((n, in_deg.get(n, 0)) for n in top_set), key=lambda kv: kv[1], reverse=True)[:15]\n",
        "top_btw_top = sorted(((n, btw.get(n, 0.0)) for n in top_set), key=lambda kv: kv[1], reverse=True)[:15]\n",
        "top_in_all, top_btw_all, top_in_top, top_btw_top"
      ]
    },
    {
      "cell_type": "markdown",
      "metadata": {},
      "source": [
        "## 6) Sonuçları Kaydet\n",
        "Kenarlar, metrikler ve kısa rapor `results/` altına yazılır."
      ]
    },
    {
      "cell_type": "code",
      "execution_count": null,
      "metadata": {},
      "outputs": [],
      "source": [
        "save_edges(G, OUTDIR / 'edges.csv')\n",
        "save_metrics(in_deg, out_deg, btw, top_set, OUTDIR / 'metrics.csv')\n",
        "save_report(in_deg, out_deg, btw, top_set, OUTDIR / 'report.md')\n",
        "(OUTDIR / 'top_packages.txt').write_text(os.linesep.join(top_packages), encoding='utf-8')\n",
        "sorted(OUTDIR.iterdir())"
      ]
    },
    {
      "cell_type": "markdown",
      "metadata": {},
      "source": [
        "## 7) Hızlı Doğrulama\n",
        "Rastgele bazı paketler için registry’deki `dependencies` ile graf kenarlarını karşılaştıralım. Küçük farklar sürüm farklılıklarından kaynaklanabilir."
      ]
    },
    {
      "cell_type": "code",
      "execution_count": null,
      "metadata": {},
      "outputs": [],
      "source": [
        "import random, requests, urllib.parse\n",
        "def get_registry_deps(name: str):\n",
        "    url = f'https://registry.npmjs.org/{urllib.parse.quote(name, safe=\"\")}'\n",
        "    r = requests.get(url, timeout=30)\n",
        "    if r.status_code != 200:\n",
        "        return {}\n",
        "    data = r.json()\n",
        "    latest = (data.get('dist-tags') or {}).get('latest')\n",
        "    versions = data.get('versions') or {}\n",
        "    obj = versions.get(latest) if latest in versions else {}\n",
        "    return obj.get('dependencies') or {}\n",
        "\n",
        "sample = random.sample(top_packages, k=min(5, len(top_packages)))\n",
        "mismatches = {}\n",
        "for pkg in sample:\n",
        "    deps_live = set(get_registry_deps(pkg).keys())\n",
        "    deps_graph = set(v for u,v in G.out_edges(pkg))\n",
        "    if deps_live != deps_graph:\n",
        "        mismatches[pkg] = {\n",
        "            'live_only': sorted(list(deps_live - deps_graph)),\n",
        "            'graph_only': sorted(list(deps_graph - deps_live)),\n",
        "        }\n",
        "mismatches"
      ]
    },
    {
      "cell_type": "markdown",
      "metadata": {},
      "source": [
        "## 8) Tüm Ağ Çizimi (Top 200 + Bağımlılıklar)\n",
        "Top 200 düğümleri turuncu, diğerleri mavi; düğüm boyutu in-degree ile ölçeklenir."
      ]
    },
    {
      "cell_type": "code",
      "execution_count": null,
      "metadata": {},
      "outputs": [],
      "source": [
        "import math\n",
        "try:\n",
        "    import matplotlib.pyplot as plt\n",
        "    N = G.number_of_nodes()\n",
        "    pos = nx.spring_layout(G, k=1/math.sqrt(max(N,1)), seed=42)\n",
        "    max_in = max(in_deg.values()) if in_deg else 1\n",
        "    node_sizes = [100 + (400 * (in_deg.get(n,0) / max_in if max_in else 0)) for n in G.nodes()]\n",
        "    node_colors = ['tab:orange' if n in top_set else 'tab:blue' for n in G.nodes()]\n",
        "    plt.figure(figsize=(12, 9), dpi=150)\n",
        "    nx.draw_networkx_edges(G, pos, arrows=False, width=0.5, alpha=0.25)\n",
        "    nx.draw_networkx_nodes(G, pos, node_size=node_sizes, node_color=node_colors, alpha=0.85, linewidths=0.2, edgecolors='#444444')\n",
        "    plt.title('NPM Top 200 Bağımlılık Ağı (Tümü)')\n",
        "    plt.axis('off')\n",
        "    out_png = OUTDIR / 'network_full_top200.png'\n",
        "    out_svg = OUTDIR / 'network_full_top200.svg'\n",
        "    plt.tight_layout(); plt.savefig(out_png); plt.savefig(out_svg)\n",
        "    (out_png, out_svg)\n",
        "except ModuleNotFoundError:\n",
        "    print('matplotlib bulunamadı; görselleştirme atlandı.')\n"
      ]
    },
    {
      "cell_type": "markdown",
      "metadata": {},
      "source": [
        "## 9) Sadece Top 200 (İndüklenmiş Alt-Ağ)\n",
        "Sadece Top 200 düğümleri; düğüm sayısı azsa etiketleri göster."
      ]
    },
    {
      "cell_type": "code",
      "execution_count": null,
      "metadata": {},
      "outputs": [],
      "source": [
        "try:\n",
        "    H = G.subgraph(top_set).copy()\n",
        "    HN = H.number_of_nodes() or 1\n",
        "    posH = nx.spring_layout(H, k=1/math.sqrt(HN), seed=42)\n",
        "    max_in_H = max((in_deg.get(n,0) for n in H.nodes()), default=1)\n",
        "    node_sizes_H = [120 + (480 * (in_deg.get(n,0) / max_in_H if max_in_H else 0)) for n in H.nodes()]\n",
        "    node_colors_H = ['tab:orange' for _ in H.nodes()]\n",
        "    import matplotlib.pyplot as plt\n",
        "    plt.figure(figsize=(10, 8), dpi=150)\n",
        "    nx.draw_networkx_edges(H, posH, arrows=False, width=0.6, alpha=0.35)\n",
        "    nx.draw_networkx_nodes(H, posH, node_size=node_sizes_H, node_color=node_colors_H, alpha=0.9, linewidths=0.2, edgecolors='#444444')\n",
        "    if H.number_of_nodes() <= 60:\n",
        "        nx.draw_networkx_labels(H, posH, font_size=6)\n",
        "    plt.title('NPM Top 200 Bağımlılık Ağı (Sadece Top 200)')\n",
        "    plt.axis('off')\n",
        "    out_png2 = OUTDIR / 'network_top200_only.png'\n",
        "    out_svg2 = OUTDIR / 'network_top200_only.svg'\n",
        "    plt.tight_layout(); plt.savefig(out_png2); plt.savefig(out_svg2)\n",
        "    (out_png2, out_svg2)\n",
        "except ModuleNotFoundError:\n",
        "    print('matplotlib bulunamadı; görselleştirme atlandı.')\n"
      ]
    },
    {
      "cell_type": "markdown",
      "metadata": {},
      "source": [
        "## 10) Varsayımlar ve Sınırlamalar\n",
        "- Kenar yönü Dependent → Dependency; yayılım analizi için uygundur.\n",
        "- Varsayılan olarak yalnızca `dependencies` dahil; `peerDependencies` talebe göre eklenebilir.\n",
        "- Küresel dependent sayıları dahil değildir; ecosyste.ms’ten eklenebilir.\n",
        "- En güncel sürüm kullanılır; eski sürümlerde bağımlılıklar farklı olabilir."
      ]
    },
    {
      "cell_type": "markdown",
      "metadata": {},
      "source": [
        "## 11) Liderler: İlk 10 (Görselleştirme)",
        "In-degree ve betweenness için ilk 10 paketi çubuk grafiklerle gösterelim."
      ]
    },
    {
      "cell_type": "code",
      "execution_count": null,
      "metadata": {},
      "outputs": [],
      "source": [
        "try:",
        "    import matplotlib.pyplot as plt",
        "    # In-Degree ilk 10 (tüm düğümler)",
        "    top10_in = sorted(in_deg.items(), key=lambda kv: kv[1], reverse=True)[:10]",
        "    names_in = [n for n,_ in top10_in][::-1]",
        "    vals_in = [v for _,v in top10_in][::-1]",
        "",
        "    # Out-Degree ilk 10 (tüm düğümler)",
        "    top10_out = sorted(out_deg.items(), key=lambda kv: kv[1], reverse=True)[:10]",
        "    names_out = [n for n,_ in top10_out][::-1]",
        "    vals_out = [v for _,v in top10_out][::-1]",
        "",
        "    # Betweenness ilk 10 (tüm düğümler)",
        "    top10_btw = sorted(btw.items(), key=lambda kv: kv[1], reverse=True)[:10]",
        "    names_btw = [n for n,_ in top10_btw][::-1]",
        "    vals_btw = [v for _,v in top10_btw][::-1]",
        "",
        "    fig, axes = plt.subplots(1, 3, figsize=(20, 6), dpi=150)",
        "    # In-Degree grafiği",
        "    axes[0].barh(names_in, vals_in, color='tab:blue')",
        "    axes[0].set_title('In-Degree İlk 10')",
        "    axes[0].set_xlabel('In-Degree')",
        "    axes[0].tick_params(axis='y', labelsize=8)",
        "",
        "    # Out-Degree grafiği",
        "    axes[1].barh(names_out, vals_out, color='tab:green')",
        "    axes[1].set_title('Out-Degree İlk 10')",
        "    axes[1].set_xlabel('Out-Degree')",
        "    axes[1].tick_params(axis='y', labelsize=8)",
        "",
        "    # Betweenness grafiği",
        "    axes[2].barh(names_btw, vals_btw, color='tab:orange')",
        "    axes[2].set_title('Betweenness İlk 10')",
        "    axes[2].set_xlabel('Betweenness')",
        "    axes[2].tick_params(axis='y', labelsize=8)",
        "",
        "    plt.tight_layout()",
        "    out_combo = OUTDIR / 'top10_leaders.png'",
        "    plt.savefig(out_combo)",
        "    print(out_combo)",
        "",
        "    # Ayrı ayrı da kaydedelim",
        "    plt.figure(figsize=(8,6), dpi=150); plt.barh(names_in, vals_in, color='tab:blue'); plt.title('In-Degree İlk 10'); plt.xlabel('In-Degree'); plt.tight_layout(); plt.savefig(OUTDIR / 'top10_in_degree.png')",
        "    plt.figure(figsize=(8,6), dpi=150); plt.barh(names_out, vals_out, color='tab:green'); plt.title('Out-Degree İlk 10'); plt.xlabel('Out-Degree'); plt.tight_layout(); plt.savefig(OUTDIR / 'top10_out_degree.png')",
        "    plt.figure(figsize=(8,6), dpi=150); plt.barh(names_btw, vals_btw, color='tab:orange'); plt.title('Betweenness İlk 10'); plt.xlabel('Betweenness'); plt.tight_layout(); plt.savefig(OUTDIR / 'top10_betweenness.png')",
        "except ModuleNotFoundError:",
        "    print('matplotlib bulunamadı; görselleştirme atlandı.')"
      ]
    }
  ],
  "metadata": {
    "kernelspec": {
      "display_name": "Python 3",
      "language": "python",
      "name": "python3"
    },
    "language_info": {
      "name": "python"
    }
  },
  "nbformat": 4,
  "nbformat_minor": 5
}