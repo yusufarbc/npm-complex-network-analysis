{
  "cells": [
    {
      "cell_type": "markdown",
      "metadata": {},
      "source": [
        "# NPM Kompleks Ag Analizi (Top 200)\n",
        "\n",
        "Bu defter, populer Top 200 NPM paketini yonlu bir ag (Dependent -> Dependency) olarak modelleyip, in-degree ve betweenness merkeziyet metrikleriyle yapisal riski inceler. Kurulum adimlarini atliyoruz; gerekli paketlerin yüklü oldugu varsayilir.\n",
        "\n",
        "Contents:\n",
        "- Veri: `data/top_200.txt` (varsa otomatik kullanilir)\n",
        "- Ag: NetworkX DiGraph, kenarlar Dependent -> Dependency\n",
        "- Metrikler: In-degree, Betweenness\n",
        "- Ciktilar: `results/` altina kaydedilir\n",
        "- Gorsellestirme: tum ag ve sadece Top 200 indüklenmis alt-ag\n",
        "\n",
        "Not: Buyuk N (ornegin 20k) icin bagimlilik cekimi ve betweenness hesabi maliyetlidir; bu defter Top 200 icin optimize edilmistir."
      ]
    },
    {
      "cell_type": "markdown",
      "metadata": {},
      "source": [
        "## 1) Icel Aktarim ve Parametreler\n",
        "Yardimci fonksiyonlar `src/analyze_npm_network.py` icindedir. Varsayilan `OUTDIR` = `results/`."
      ]
    },
    {
      "cell_type": "code",
      "execution_count": null,
      "metadata": {},
      "outputs": [],
      "source": [
        "from pathlib import Path\n",
        "import sys\n",
        "import os\n",
        "\n",
        "# src klasorunu import yoluna ekle\n",
        "sys.path.append(str(Path('src').resolve()))\n",
        "\n",
        "import networkx as nx\n",
        "from analyze_npm_network import (\n",
        "    fetch_top_packages,\n",
        "    build_dependency_graph,\n",
        "    compute_metrics,\n",
        "    save_edges,\n",
        "    save_metrics,\n",
        "    save_report,\n",
        "    read_list,\n",
        ")\n",
        "\n",
        "# Tercihen sabit Top 200 listesi\n",
        "INPUT_LIST = Path('data/top_200.txt')\n",
        "USE_INPUT_LIST = INPUT_LIST.exists()\n",
        "TOP_N = 200  # fallback to fetching if needed\n",
        "OUTDIR = Path('results')\n",
        "OUTDIR.mkdir(parents=True, exist_ok=True)\n",
        "OUTDIR"
      ]
    },
    {
      "cell_type": "markdown",
      "metadata": {},
      "source": [
        "## 2) Top 200 Paketleri Yukle\n",
        "`data/top_200.txt` varsa kullan; yoksa API'lerden Top-N cek."
      ]
    },
    {
      "cell_type": "code",
      "execution_count": null,
      "metadata": {},
      "outputs": [],
      "source": [
        "if USE_INPUT_LIST:\n",
        "    top_packages = read_list(INPUT_LIST)\n",
        "    print(f'Loaded {len(top_packages)} from {INPUT_LIST}')\n",
        "else:\n",
        "    top_packages = fetch_top_packages(TOP_N)\n",
        "    print(f'Fetched {len(top_packages)} from API(s)')\n",
        "len(top_packages), top_packages[:20]"
      ]
    },
    {
      "cell_type": "markdown",
      "metadata": {},
      "source": [
        "## 3) Yonlu Agi Kur\n",
        "Dugumler paketler; kenarlar Dependent -> Dependency. Varsayilan olarak sadece `dependencies` kullanilir."
      ]
    },
    {
      "cell_type": "code",
      "execution_count": null,
      "metadata": {},
      "outputs": [],
      "source": [
        "G, top_set = build_dependency_graph(top_packages)\n",
        "G.number_of_nodes(), G.number_of_edges()"
      ]
    },
    {
      "cell_type": "markdown",
      "metadata": {},
      "source": [
        "## 4) Merkeziyet Metrikleri\n",
        "- In-Degree: Dugume gelen kenar sayisi -> etkilenebilecek alan\n",
        "- Betweenness: En kisa yollardaki aracilik -> tek hata noktasi riski"
      ]
    },
    {
      "cell_type": "code",
      "execution_count": null,
      "metadata": {},
      "outputs": [],
      "source": [
        "in_deg, btw = compute_metrics(G)\n",
        "nodes = G.number_of_nodes(); edges = G.number_of_edges()\n",
        "nodes, edges"
      ]
    },
    {
      "cell_type": "markdown",
      "metadata": {},
      "source": [
        "## 5) Ilk 15 (Tum Dugumler ve Kohort)\n",
        "In-degree ve betweenness acisindan liderlere hizli bakis (tum dugumler ve sadece Top 200)."
      ]
    },
    {
      "cell_type": "code",
      "execution_count": null,
      "metadata": {},
      "outputs": [],
      "source": [
        "top_in_all = sorted(in_deg.items(), key=lambda kv: kv[1], reverse=True)[:15]\n",
        "top_btw_all = sorted(btw.items(), key=lambda kv: kv[1], reverse=True)[:15]\n",
        "top_in_top = sorted(((n, in_deg.get(n, 0)) for n in top_set), key=lambda kv: kv[1], reverse=True)[:15]\n",
        "top_btw_top = sorted(((n, btw.get(n, 0.0)) for n in top_set), key=lambda kv: kv[1], reverse=True)[:15]\n",
        "top_in_all, top_btw_all, top_in_top, top_btw_top"
      ]
    },
    {
      "cell_type": "markdown",
      "metadata": {},
      "source": [
        "## 6) Sonuclari Kaydet\n",
        "Kenarlar, metrikler ve kisa rapor `results/` altina yazilir."
      ]
    },
    {
      "cell_type": "code",
      "execution_count": null,
      "metadata": {},
      "outputs": [],
      "source": [
        "save_edges(G, OUTDIR / 'edges.csv')\n",
        "save_metrics(in_deg, btw, top_set, OUTDIR / 'metrics.csv')\n",
        "save_report(in_deg, btw, top_set, OUTDIR / 'report.md')\n",
        "(OUTDIR / 'top_packages.txt').write_text(os.linesep.join(top_packages), encoding='utf-8')\n",
        "sorted(OUTDIR.iterdir())"
      ]
    },
    {
      "cell_type": "markdown",
      "metadata": {},
      "source": [
        "## 7) Hizi Dogrulama\n",
        "Rastgele bazi paketler icin registry'deki dependencies ile graf kenarlarini karsilastir. Surum farklarindan kaynakli kucuk farkliliklar olabilir."
      ]
    },
    {
      "cell_type": "code",
      "execution_count": null,
      "metadata": {},
      "outputs": [],
      "source": [
        "import random, requests, urllib.parse\n",
        "def get_registry_deps(name: str):\n",
        "    url = f'https://registry.npmjs.org/{urllib.parse.quote(name, safe=\"\")}'\n",
        "    r = requests.get(url, timeout=30)\n",
        "    if r.status_code != 200:\n",
        "        return {}\n",
        "    data = r.json()\n",
        "    latest = (data.get('dist-tags') or {}).get('latest')\n",
        "    versions = data.get('versions') or {}\n",
        "    obj = versions.get(latest) if latest in versions else {}\n",
        "    return obj.get('dependencies') or {}\n",
        "\n",
        "sample = random.sample(top_packages, k=min(5, len(top_packages)))\n",
        "mismatches = {}\n",
        "for pkg in sample:\n",
        "    deps_live = set(get_registry_deps(pkg).keys())\n",
        "    deps_graph = set(v for u,v in G.out_edges(pkg))\n",
        "    if deps_live != deps_graph:\n",
        "        mismatches[pkg] = {\n",
        "            'live_only': sorted(list(deps_live - deps_graph)),\n",
        "            'graph_only': sorted(list(deps_graph - deps_live)),\n",
        "        }\n",
        "mismatches"
      ]
    },
    {
      "cell_type": "markdown",
      "metadata": {},
      "source": [
        "## 8) Tum Ag Cizimi (Top 200 + Bagimliliklar)\n",
        "Top 200 dugumleri turuncu, digerleri mavi; dugum boyutu in-degree ile olceklenir."
      ]
    },
    {
      "cell_type": "code",
      "execution_count": null,
      "metadata": {},
      "outputs": [],
      "source": [
        "import math\n",
        "try:\n",
        "    import matplotlib.pyplot as plt\n",
        "    N = G.number_of_nodes()\n",
        "    pos = nx.spring_layout(G, k=1/math.sqrt(max(N,1)), seed=42)\n",
        "    max_in = max(in_deg.values()) if in_deg else 1\n",
        "    node_sizes = [100 + (400 * (in_deg.get(n,0) / max_in if max_in else 0)) for n in G.nodes()]\n",
        "    node_colors = ['tab:orange' if n in top_set else 'tab:blue' for n in G.nodes()]\n",
        "    plt.figure(figsize=(12, 9), dpi=150)\n",
        "    nx.draw_networkx_edges(G, pos, arrows=False, width=0.5, alpha=0.25)\n",
        "    nx.draw_networkx_nodes(G, pos, node_size=node_sizes, node_color=node_colors, alpha=0.85, linewidths=0.2, edgecolors='#444444')\n",
        "    plt.title('NPM Top 200 Dependency Network (Full)')\n",
        "    plt.axis('off')\n",
        "    out_png = OUTDIR / 'network_full_top200.png'\n",
        "    out_svg = OUTDIR / 'network_full_top200.svg'\n",
        "    plt.tight_layout(); plt.savefig(out_png); plt.savefig(out_svg)\n",
        "    (out_png, out_svg)\n",
        "except ModuleNotFoundError:\n",
        "    print('matplotlib not found; skipping drawing.')\n"
      ]
    },
    {
      "cell_type": "markdown",
      "metadata": {},
      "source": [
        "## 9) Sadece Top 200 Induklenmis Alt-Ag\n",
        "Sadece Top 200 dugumleri; okunabilirlik icin az sayida dugum varsa etiketler gosterilir."
      ]
    },
    {
      "cell_type": "code",
      "execution_count": null,
      "metadata": {},
      "outputs": [],
      "source": [
        "try:\n",
        "    H = G.subgraph(top_set).copy()\n",
        "    HN = H.number_of_nodes() or 1\n",
        "    posH = nx.spring_layout(H, k=1/math.sqrt(HN), seed=42)\n",
        "    max_in_H = max((in_deg.get(n,0) for n in H.nodes()), default=1)\n",
        "    node_sizes_H = [120 + (480 * (in_deg.get(n,0) / max_in_H if max_in_H else 0)) for n in H.nodes()]\n",
        "    node_colors_H = ['tab:orange' for _ in H.nodes()]\n",
        "    import matplotlib.pyplot as plt\n",
        "    plt.figure(figsize=(10, 8), dpi=150)\n",
        "    nx.draw_networkx_edges(H, posH, arrows=False, width=0.6, alpha=0.35)\n",
        "    nx.draw_networkx_nodes(H, posH, node_size=node_sizes_H, node_color=node_colors_H, alpha=0.9, linewidths=0.2, edgecolors='#444444')\n",
        "    if H.number_of_nodes() <= 60:\n",
        "        nx.draw_networkx_labels(H, posH, font_size=6)\n",
        "    plt.title('NPM Top 200 Dependency Network (Top-Only)')\n",
        "    plt.axis('off')\n",
        "    out_png2 = OUTDIR / 'network_top200_only.png'\n",
        "    out_svg2 = OUTDIR / 'network_top200_only.svg'\n",
        "    plt.tight_layout(); plt.savefig(out_png2); plt.savefig(out_svg2)\n",
        "    (out_png2, out_svg2)\n",
        "except ModuleNotFoundError:\n",
        "    print('matplotlib not found; skipping drawing.')\n"
      ]
    },
    {
      "cell_type": "markdown",
      "metadata": {},
      "source": [
        "## 10) Varsayimlar ve Sinirlamalar\n",
        "- Kenar yonu Dependent -> Dependency; yayilim analizi icin uygundur.\n",
        "- Yalnizca `dependencies` dahil; `peerDependencies` varsayilan olarak disarida.\n",
        "- Global dependent sayilari dahil degil; ecosyste.ms verisi eklenebilir.\n",
        "- En guncel surum kullanilir; eski surumlerde bagimliliklar farkli olabilir."
      ]
    }
  ],
  "metadata": {
    "kernelspec": {
      "display_name": "Python 3",
      "language": "python",
      "name": "python3"
    },
    "language_info": {
      "name": "python"
    }
  },
  "nbformat": 4,
  "nbformat_minor": 5
}
