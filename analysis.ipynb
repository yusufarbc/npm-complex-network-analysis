{
  "cells": [
    {
      "cell_type": "markdown",
      "metadata": {},
      "source": [
        "# NPM Complex Network Analysis (Top-N)\n",
        "\n",
        "Bu notebook, NPM ekosistemindeki paketleri yönlü bir ağ (Dependent → Dependency) olarak modelleyip, merkeziyet metrikleri ile yapısal riski analiz eder.\n",
        "\n",
        "Hedefler:\n",
        "- Top-N (ör. 200) paket listesini indirmek (downloads’a göre)\n",
        "- `Dependent → Dependency` yönünde bir `DiGraph` kurmak\n",
        "- In-degree ve betweenness centrality hesaplamak\n",
        "- Sonuçları tablo ve dosya olarak kaydetmek\n",
        "\n",
        "Not: Büyük N (örn. 20k) için bağımlılık çekme ve betweenness hesaplaması maliyetlidir; bu notebook N=200 civarında etkileşimli çalışmaya uygundur."
      ]
    },
    {
      "cell_type": "markdown",
      "metadata": {},
      "source": [
        "## 1) Kurulum\n",
        "Gerekli bağımlılıkları yükleyelim. Eğer sanal ortam kullanıyorsanız, önce etkinleştirin."
      ]
    },
    {
      "cell_type": "code",
      "execution_count": null,
      "metadata": {},
      "outputs": [],
      "source": [
        "%pip install -q -r requirements.txt"
      ]
    },
    {
      "cell_type": "markdown",
      "metadata": {},
      "source": [
        "## 2) İçe Aktarım ve Parametreler\n",
        "Var olan yardımcı fonksiyonları `src/analyze_npm_network.py` içinden kullanacağız."
      ]
    },
    {
      "cell_type": "code",
      "execution_count": null,
      "metadata": {},
      "outputs": [],
      "source": [
        "from pathlib import Path",
        "import sys",
        "import os",
        "",
        "# src altını import yoluna ekle",
        "sys.path.append(str(Path('src').resolve()))",
        "",
        "import networkx as nx",
        "from analyze_npm_network import (",
        "    fetch_top_packages,",
        "    build_dependency_graph,",
        "    compute_metrics,",
        "    save_edges,",
        "    save_metrics,",
        "    save_report,",
        ")",
        "",
        "# Tercihen sabit Top 200 listesi",
        "INPUT_LIST = Path('data/top_200.txt')",
        "USE_INPUT_LIST = INPUT_LIST.exists()",
        "TOP_N = 200  # fetching fallback",
        "OUTDIR = Path('data_nb_200')",
        "OUTDIR.mkdir(parents=True, exist_ok=True)",
        "OUTDIR"
      ]
    },
    {
      "cell_type": "markdown",
      "metadata": {},
      "source": [
        "## 3) Top-N Paketleri Getir\n",
        "Önce indirme sayısına göre sıralı Top-N listeyi çekiyoruz. Ecosystems API öncelikli, gerekirse yedek kaynaklar kullanılır."
      ]
    },
    {
      "cell_type": "code",
      "execution_count": null,
      "metadata": {},
      "outputs": [],
      "source": [
        "if USE_INPUT_LIST:",
        "    from analyze_npm_network import read_list",
        "    top_packages = read_list(INPUT_LIST)",
        "    print(f'Loaded {len(top_packages)} from {INPUT_LIST}')",
        "else:",
        "    top_packages = fetch_top_packages(TOP_N)",
        "    print(f'Fetched {len(top_packages)} from API(s)')",
        "len(top_packages), top_packages[:20]"
      ]
    },
    {
      "cell_type": "markdown",
      "metadata": {},
      "source": [
        "## 4) Ağın Kurulması (Directed)\n",
        "Düğümler: paketler; Kenarlar: `Dependent → Dependency`."
      ]
    },
    {
      "cell_type": "code",
      "execution_count": null,
      "metadata": {},
      "outputs": [],
      "source": [
        "G, top_set = build_dependency_graph(top_packages)\n",
        "G.number_of_nodes(), G.number_of_edges()"
      ]
    },
    {
      "cell_type": "markdown",
      "metadata": {},
      "source": [
        "## 5) Merkeziyet Metrikleri\n",
        "In-degree (pakete gelen kenar sayısı) ve betweenness (en kısa yollardaki aracı rol) hesaplanır."
      ]
    },
    {
      "cell_type": "code",
      "execution_count": null,
      "metadata": {},
      "outputs": [],
      "source": [
        "in_deg, btw = compute_metrics(G)\n",
        "# Özet\n",
        "nodes = G.number_of_nodes()\n",
        "edges = G.number_of_edges()\n",
        "nodes, edges"
      ]
    },
    {
      "cell_type": "markdown",
      "metadata": {},
      "source": [
        "## 6) İlk 15 – In-Degree ve Betweenness\n",
        "Top listeleri hızlıca görelim."
      ]
    },
    {
      "cell_type": "code",
      "execution_count": null,
      "metadata": {},
      "outputs": [],
      "source": [
        "top_in_all = sorted(in_deg.items(), key=lambda kv: kv[1], reverse=True)[:15]\n",
        "top_btw_all = sorted(btw.items(), key=lambda kv: kv[1], reverse=True)[:15]\n",
        "\n",
        "top_in_top = sorted(((n, in_deg.get(n, 0)) for n in top_set), key=lambda kv: kv[1], reverse=True)[:15]\n",
        "top_btw_top = sorted(((n, btw.get(n, 0.0)) for n in top_set), key=lambda kv: kv[1], reverse=True)[:15]\n",
        "\n",
        "top_in_all, top_btw_all, top_in_top, top_btw_top"
      ]
    },
    {
      "cell_type": "markdown",
      "metadata": {},
      "source": [
        "## 7) Sonuçları Kaydet\n",
        "Kenarlıklar, metrikler ve kısa raporu dosyaya yazalım."
      ]
    },
    {
      "cell_type": "code",
      "execution_count": null,
      "metadata": {},
      "outputs": [],
      "source": [
        "save_edges(G, OUTDIR / 'edges.csv')\n",
        "save_metrics(in_deg, btw, top_set, OUTDIR / 'metrics.csv')\n",
        "save_report(in_deg, btw, top_set, OUTDIR / 'report.md')\n",
        "(OUTDIR / 'top_packages.txt').write_text(os.linesep.join(top_packages), encoding='utf-8')\n",
        "sorted(OUTDIR.iterdir())"
      ]
    },
    {
      "cell_type": "markdown",
      "metadata": {},
      "source": [
        "## 8) (Opsiyonel) Küçük Görselleştirme\n",
        "Büyük grafikleri çizmek zor olabilir; küçük bir alt-ağ (ör. en yüksek in-degree düğümünün ego grafiği) çizilebilir."
      ]
    },
    {
      "cell_type": "code",
      "execution_count": null,
      "metadata": {},
      "outputs": [],
      "source": [
        "%pip install -q matplotlib"
      ]
    },
    {
      "cell_type": "code",
      "execution_count": null,
      "metadata": {},
      "outputs": [],
      "source": [
        "# En yüksek in-degree sahibi düğüm\n",
        "hub, _ = max(in_deg.items(), key=lambda kv: kv[1]) if in_deg else (None, None)\n",
        "hub"
      ]
    },
    {
      "cell_type": "code",
      "execution_count": null,
      "metadata": {},
      "outputs": [],
      "source": [
        "# Hub etrafında küçük bir alt-ağ çizimi\n",
        "try:\n",
        "    import matplotlib.pyplot as plt\n",
        "    if hub is not None:\n",
        "        neighbors = set(G.predecessors(hub)) | set(G.successors(hub)) | {hub}\n",
        "        H = G.subgraph(neighbors).copy()\n",
        "        pos = nx.spring_layout(H, seed=42)\n",
        "        plt.figure(figsize=(8, 6))\n",
        "        nx.draw_networkx_nodes(H, pos, node_size=200, alpha=0.8)\n",
        "        nx.draw_networkx_edges(H, pos, alpha=0.3, arrows=True, arrowsize=10)\n",
        "        nx.draw_networkx_labels(H, pos, font_size=8)\n",
        "        plt.axis('off')\n",
        "        plt.show()\n",
        "    else:\n",
        "        print('Görselleştirilecek hub bulunamadı.')\n",
        "except ModuleNotFoundError:\n",
        "    print('matplotlib bulunamadı; görselleştirme atlandı.')"
      ]
    }
  ],
  "metadata": {
    "kernelspec": {
      "display_name": "Python 3",
      "language": "python",
      "name": "python3"
    },
    "language_info": {
      "name": "python"
    }
  },
  "nbformat": 4,
  "nbformat_minor": 5
}
