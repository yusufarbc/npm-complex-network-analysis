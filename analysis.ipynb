{
  "cells": [
    {
      "cell_type": "markdown",
      "id": "8567c601",
      "metadata": {},
      "source": [
        "# NPM Kompleks Ağ Analizi (Top N)",
        "",
        "",
        "",
        "Bu defter, popüler Top N NPM paketini yönlü bir ağ (Dependent → Dependency) olarak modelleyip, in-degree ve betweenness merkeziyet metrikleriyle yapısal riski inceler. Kurulum adımlarını atlıyoruz; gerekli paketlerin yüklü olduğu varsayılır.",
        "",
        "",
        "",
        "- Veri: API'den çekilen Top N paket (varsayılan 200)",
        "",
        "- Ağ: NetworkX DiGraph, kenarlar Dependent → Dependency",
        "",
        "- Metrikler: In-degree, Betweenness",
        "",
        "- Çıktılar: `results/` altına kaydedilir",
        "",
        "- Görselleştirme: Tüm ağ ve sadece Top N indüklenmiş alt-ağ",
        "",
        "",
        "",
        "Not: Büyük N (ör. 20k) için bağımlılık çekimi ve betweenness hesabı maliyetlidir; bu defter Top N için optimize edilmiştir.",
        "",
        "Varsayılan Top N = 1000 (değiştirilebilir)."
      ]
    },
    {
      "cell_type": "markdown",
      "id": "57e59b20",
      "metadata": {},
      "source": [
        "## 1) İçe Aktarım ve Parametreler",
        "",
        "Yardımcı fonksiyonlar `src/analyze_npm_network.py` içindedir. Varsayılan `OUTDIR` = `results/`."
      ]
    },
    {
      "cell_type": "code",
      "execution_count": null,
      "id": "4cb48caf",
      "metadata": {},
      "outputs": [],
      "source": [
        "from pathlib import Path\n",
        "import sys\n",
        "import os\n",
        "\n",
        "# src klasörünü import yoluna ekle\n",
        "sys.path.append(str(Path('src').resolve()))\n",
        "\n",
        "import networkx as nx\n",
        "from analysis_helpers import (\n",
        "    fetch_top_packages,\n",
        "    build_dependency_graph,\n",
        "    compute_metrics,\n",
        "    save_edges,\n",
        "    save_metrics,\n",
        "    save_report,\n",
        "    read_list,\n",
        ")\n",
        "\n",
        "# Tercihen sabit Top 200 listesi\n",
        "TOP_N = 1000  # gerekirse API'den çekmek için yedek\n",
        "OUTDIR = Path('results')\n",
        "OUTDIR.mkdir(parents=True, exist_ok=True)\n",
        "OUTDIR"
      ]
    },
    {
      "cell_type": "markdown",
      "id": "55d98b52",
      "metadata": {},
      "source": [
        "## 2) Top N Paketleri Yükle",
        "",
        "`data/top_200.txt` varsa kullan; yoksa API’lerden Top‑N çek."
      ]
    },
    {
      "cell_type": "code",
      "execution_count": null,
      "id": "0f58d428",
      "metadata": {},
      "outputs": [],
      "source": [
        "top_packages = fetch_top_packages(TOP_N)\n",
        "print(f'API’lerden {len(top_packages)} paket çekildi')\n",
        "len(top_packages), top_packages[:20]"
      ]
    },
    {
      "cell_type": "markdown",
      "id": "38ec8e56",
      "metadata": {},
      "source": [
        "## 3) Yönlü Ağı Kur",
        "",
        "Düğümler paketler; kenarlar Dependent → Dependency. Varsayılan olarak yalnızca `dependencies` kullanılır."
      ]
    },
    {
      "cell_type": "code",
      "execution_count": null,
      "id": "b9730467",
      "metadata": {},
      "outputs": [],
      "source": [
        "G, top_set = build_dependency_graph(top_packages)\n",
        "G.number_of_nodes(), G.number_of_edges()"
      ]
    },
    {
      "cell_type": "markdown",
      "id": "58466719",
      "metadata": {},
      "source": [
        "## 4) Merkeziyet Metrikleri",
        "",
        "- In-Degree: Düğüme gelen kenar → etkilenebilecek alan",
        "",
        "- Out-Degree: Düğümün dış bağımlılık sayısı → bağımlılık zinciri uzunluğu",
        "",
        "- Betweenness: En kısa yollardaki aracılık → tek hata noktası riski",
        "",
        "",
        "",
        "Not: Büyük graf’larda betweenness yaklaşık örnekleme (k) ile hızlandırılır."
      ]
    },
    {
      "cell_type": "code",
      "execution_count": null,
      "id": "6005f87d",
      "metadata": {},
      "outputs": [],
      "source": [
        "in_deg, out_deg, btw = compute_metrics(G)\n",
        "nodes = G.number_of_nodes(); edges = G.number_of_edges()\n",
        "nodes, edges"
      ]
    },
    {
      "cell_type": "markdown",
      "id": "2d3995db",
      "metadata": {},
      "source": [
        "## 5) Liderler: İlk 10 (Özet + Görselleştirme)",
        "Bu adımda in-degree / out-degree / betweenness için ilk 10’u hem metin olarak özetler hem de bar grafikleri PNG+SVG olarak results/ klasörüne kaydeder."
      ]
    },
    {
      "cell_type": "code",
      "execution_count": null,
      "id": "50212d69",
      "metadata": {},
      "outputs": [],
      "source": [
        "top_in_all = sorted(in_deg.items(), key=lambda kv: kv[1], reverse=True)[:10]\n",
        "top_btw_all = sorted(btw.items(), key=lambda kv: kv[1], reverse=True)[:10]\n",
        "top_in_top = sorted(((n, in_deg.get(n, 0)) for n in top_set), key=lambda kv: kv[1], reverse=True)[:10]\n",
        "top_btw_top = sorted(((n, btw.get(n, 0.0)) for n in top_set), key=lambda kv: kv[1], reverse=True)[:10]\n",
        "top_in_all, top_btw_all, top_in_top, top_btw_top"
      ]
    },
    {
      "cell_type": "markdown",
      "id": "0fbc6256",
      "metadata": {},
      "source": [
        "## 6) Sonuçları Kaydet",
        "",
        "Kenarlar, metrikler ve kısa rapor `results/` altına yazılır."
      ]
    },
    {
      "cell_type": "code",
      "execution_count": null,
      "id": "41b7326a",
      "metadata": {},
      "outputs": [],
      "source": [
        "save_edges(G, OUTDIR / 'edges.csv')\n",
        "save_metrics(in_deg, out_deg, btw, top_set, OUTDIR / 'metrics.csv')\n",
        "save_report(in_deg, out_deg, btw, top_set, OUTDIR / 'report.md')\n",
        "(OUTDIR / 'top_packages.txt').write_text(os.linesep.join(top_packages), encoding='utf-8')\n",
        "sorted(OUTDIR.iterdir())"
      ]
    },
    {
      "cell_type": "markdown",
      "id": "ae03b462",
      "metadata": {},
      "source": [
        "## 7) Hızlı Doğrulama",
        "",
        "Rastgele bazı paketler için registry’deki `dependencies` ile graf kenarlarını karşılaştıralım. Küçük farklar sürüm farklılıklarından kaynaklanabilir."
      ]
    },
    {
      "cell_type": "code",
      "execution_count": null,
      "id": "1e10993c",
      "metadata": {},
      "outputs": [],
      "source": [
        "import random, requests, urllib.parse\n",
        "def get_registry_deps(name: str):\n",
        "    url = f'https://registry.npmjs.org/{urllib.parse.quote(name, safe=\"\")}'\n",
        "    r = requests.get(url, timeout=30)\n",
        "    if r.status_code != 200:\n",
        "        return {}\n",
        "    data = r.json()\n",
        "    latest = (data.get('dist-tags') or {}).get('latest')\n",
        "    versions = data.get('versions') or {}\n",
        "    obj = versions.get(latest) if latest in versions else {}\n",
        "    return obj.get('dependencies') or {}\n",
        "\n",
        "sample = random.sample(top_packages, k=min(5, len(top_packages)))\n",
        "mismatches = {}\n",
        "for pkg in sample:\n",
        "    deps_live = set(get_registry_deps(pkg).keys())\n",
        "    deps_graph = set(v for u,v in G.out_edges(pkg))\n",
        "    if deps_live != deps_graph:\n",
        "        mismatches[pkg] = {\n",
        "            'live_only': sorted(list(deps_live - deps_graph)),\n",
        "            'graph_only': sorted(list(deps_graph - deps_live)),\n",
        "        }\n",
        "mismatches"
      ]
    },
    {
      "cell_type": "markdown",
      "id": "e913f0ca",
      "metadata": {},
      "source": [
        "## 8) Tüm Ağ Çizimi (Top N + Bağımlılıklar)",
        "",
        "Top N düğümleri turuncu, diğerleri mavi; düğüm boyutu in-degree ile ölçeklenir."
      ]
    },
    {
      "cell_type": "code",
      "execution_count": null,
      "id": "31617bbc",
      "metadata": {},
      "outputs": [],
      "source": [
        "import math\n",
        "try:\n",
        "    import matplotlib.pyplot as plt\n",
        "    N = G.number_of_nodes()\n",
        "    pos = nx.spring_layout(G, k=1/math.sqrt(max(N,1)), seed=42)\n",
        "    max_in = max(in_deg.values()) if in_deg else 1\n",
        "    node_sizes = [100 + (400 * (in_deg.get(n,0) / max_in if max_in else 0)) for n in G.nodes()]\n",
        "    node_colors = ['tab:orange' if n in top_set else 'tab:blue' for n in G.nodes()]\n",
        "    plt.figure(figsize=(12, 9), dpi=150)\n",
        "    nx.draw_networkx_edges(G, pos, arrows=False, width=0.5, alpha=0.25)\n",
        "    nx.draw_networkx_nodes(G, pos, node_size=node_sizes, node_color=node_colors, alpha=0.85, linewidths=0.2, edgecolors='#444444')\n",
        "    plt.title('NPM Top 200 Bağımlılık Ağı (Tümü)')\n",
        "    plt.axis('off')\n",
        "    out_png = OUTDIR / 'network_full_top200.png'\n",
        "    out_svg = OUTDIR / 'network_full_top200.svg'\n",
        "    plt.tight_layout(); plt.savefig(out_png); plt.savefig(out_svg)\n",
        "    (out_png, out_svg)\n",
        "except ModuleNotFoundError:\n",
        "    print('matplotlib bulunamadı; görselleştirme atlandı.')\n"
      ]
    },
    {
      "cell_type": "markdown",
      "id": "ce54238c",
      "metadata": {},
      "source": [
        "## 9) Sadece Top N (İndüklenmiş Alt-Ağ)",
        "",
        "Sadece Top N düğümleri; düğüm sayısı azsa etiketleri göster."
      ]
    },
    {
      "cell_type": "code",
      "execution_count": null,
      "id": "b7a641ff",
      "metadata": {},
      "outputs": [],
      "source": [
        "try:\n",
        "    H = G.subgraph(top_set).copy()\n",
        "    HN = H.number_of_nodes() or 1\n",
        "    posH = nx.spring_layout(H, k=1/math.sqrt(HN), seed=42)\n",
        "    max_in_H = max((in_deg.get(n,0) for n in H.nodes()), default=1)\n",
        "    node_sizes_H = [120 + (480 * (in_deg.get(n,0) / max_in_H if max_in_H else 0)) for n in H.nodes()]\n",
        "    node_colors_H = ['tab:orange' for _ in H.nodes()]\n",
        "    import matplotlib.pyplot as plt\n",
        "    plt.figure(figsize=(10, 8), dpi=150)\n",
        "    nx.draw_networkx_edges(H, posH, arrows=False, width=0.6, alpha=0.35)\n",
        "    nx.draw_networkx_nodes(H, posH, node_size=node_sizes_H, node_color=node_colors_H, alpha=0.9, linewidths=0.2, edgecolors='#444444')\n",
        "    if H.number_of_nodes() <= 60:\n",
        "        nx.draw_networkx_labels(H, posH, font_size=6)\n",
        "    plt.title('NPM Top 200 Bağımlılık Ağı (Sadece Top 200)')\n",
        "    plt.axis('off')\n",
        "    out_png2 = OUTDIR / 'network_top200_only.png'\n",
        "    out_svg2 = OUTDIR / 'network_top200_only.svg'\n",
        "    plt.tight_layout(); plt.savefig(out_png2); plt.savefig(out_svg2)\n",
        "    (out_png2, out_svg2)\n",
        "except ModuleNotFoundError:\n",
        "    print('matplotlib bulunamadı; görselleştirme atlandı.')\n"
      ]
    },
    {
      "cell_type": "markdown",
      "id": "aeef7ca6",
      "metadata": {},
      "source": [
        "## 14) Varsayımlar ve Sınırlamalar",
        "",
        "- Kenar yönü Dependent → Dependency; yayılım analizi için uygundur.",
        "",
        "- Varsayılan olarak yalnızca `dependencies` dahil; `peerDependencies` talebe göre eklenebilir.",
        "",
        "- Küresel dependent sayıları dahil değildir; ecosyste.ms’ten eklenebilir.",
        "",
        "- En güncel sürüm kullanılır; eski sürümlerde bağımlılıklar farklı olabilir."
      ]
    },
    {
      "cell_type": "code",
      "execution_count": null,
      "id": "014291ba",
      "metadata": {},
      "outputs": [],
      "source": [
        "try:\n",
        "    import matplotlib.pyplot as plt\n",
        "    # In-Degree ilk 10 (tüm düğümler)\n",
        "    top10_in = sorted(in_deg.items(), key=lambda kv: kv[1], reverse=True)[:10]\n",
        "    names_in = [n for n,_ in top10_in][::-1]\n",
        "    vals_in = [v for _,v in top10_in][::-1]\n",
        "\n",
        "    # Out-Degree ilk 10 (tüm düğümler)\n",
        "    top10_out = sorted(out_deg.items(), key=lambda kv: kv[1], reverse=True)[:10]\n",
        "    names_out = [n for n,_ in top10_out][::-1]\n",
        "    vals_out = [v for _,v in top10_out][::-1]\n",
        "\n",
        "    # Betweenness ilk 10 (tüm düğümler)\n",
        "    top10_btw = sorted(btw.items(), key=lambda kv: kv[1], reverse=True)[:10]\n",
        "    names_btw = [n for n,_ in top10_btw][::-1]\n",
        "    vals_btw = [v for _,v in top10_btw][::-1]\n",
        "\n",
        "    fig, axes = plt.subplots(1, 3, figsize=(20, 6), dpi=150)\n",
        "    # In-Degree grafiği\n",
        "    axes[0].barh(names_in, vals_in, color='tab:blue')\n",
        "    axes[0].set_title('In-Degree İlk 10')\n",
        "    axes[0].set_xlabel('In-Degree')\n",
        "    axes[0].tick_params(axis='y', labelsize=8)\n",
        "\n",
        "    # Out-Degree grafiği\n",
        "    axes[1].barh(names_out, vals_out, color='tab:green')\n",
        "    axes[1].set_title('Out-Degree İlk 10')\n",
        "    axes[1].set_xlabel('Out-Degree')\n",
        "    axes[1].tick_params(axis='y', labelsize=8)\n",
        "\n",
        "    # Betweenness grafiği\n",
        "    axes[2].barh(names_btw, vals_btw, color='tab:orange')\n",
        "    axes[2].set_title('Betweenness İlk 10')\n",
        "    axes[2].set_xlabel('Betweenness')\n",
        "    axes[2].tick_params(axis='y', labelsize=8)\n",
        "\n",
        "    plt.tight_layout()\n",
        "    out_combo = OUTDIR / 'top10_leaders.png'\n",
        "    out_combo_svg = OUTDIR / 'top10_leaders.svg'\n",
        "    plt.savefig(out_combo)\n",
        "    plt.savefig(out_combo_svg)\n",
        "    print(out_combo)\n",
        "\n",
        "    # Ayrı ayrı da kaydedelim\n",
        "    plt.figure(figsize=(8,6), dpi=150); plt.barh(names_in, vals_in, color='tab:blue'); plt.title('In-Degree İlk 10'); plt.xlabel('In-Degree'); plt.tight_layout(); plt.savefig(OUTDIR / 'top10_in_degree.png')\n",
        "    plt.savefig(OUTDIR / 'top10_in_degree.svg')\n",
        "    plt.figure(figsize=(8,6), dpi=150); plt.barh(names_out, vals_out, color='tab:green'); plt.title('Out-Degree İlk 10'); plt.xlabel('Out-Degree'); plt.tight_layout(); plt.savefig(OUTDIR / 'top10_out_degree.png')\n",
        "    plt.savefig(OUTDIR / 'top10_out_degree.svg')\n",
        "    plt.figure(figsize=(8,6), dpi=150); plt.barh(names_btw, vals_btw, color='tab:orange'); plt.title('Betweenness İlk 10'); plt.xlabel('Betweenness'); plt.tight_layout(); plt.savefig(OUTDIR / 'top10_betweenness.png')\n",
        "    plt.savefig(OUTDIR / 'top10_betweenness.svg')\n",
        "except ModuleNotFoundError:\n",
        "    print('matplotlib bulunamadı; görselleştirme atlandı.')"
      ]
    },
    {
      "cell_type": "markdown",
      "metadata": {},
      "source": [
        "## 10) Derece Dağılımları (Histogram)",
        "",
        "In-degree ve out-degree dağılımlarını inceleyelim (log ölçek)."
      ]
    },
    {
      "cell_type": "code",
      "execution_count": null,
      "metadata": {},
      "outputs": [],
      "source": [
        "try:\n",
        "    import matplotlib.pyplot as plt\n",
        "    import numpy as np\n",
        "    indeg_vals = np.array(list(in_deg.values()))\n",
        "    outdeg_vals = np.array(list(out_deg.values()))\n",
        "    fig, ax = plt.subplots(1,2, figsize=(12,4), dpi=150)\n",
        "    ax[0].hist(indeg_vals, bins=30, color='tab:blue', alpha=0.8)\n",
        "    ax[0].set_title('In-Degree Dağılımı'); ax[0].set_yscale('log')\n",
        "    ax[0].set_xlabel('In-Degree'); ax[0].set_ylabel('Frekans')\n",
        "    ax[1].hist(outdeg_vals, bins=30, color='tab:green', alpha=0.8)\n",
        "    ax[1].set_title('Out-Degree Dağılımı'); ax[1].set_yscale('log')\n",
        "    ax[1].set_xlabel('Out-Degree'); ax[1].set_ylabel('Frekans')\n",
        "    plt.tight_layout()\n",
        "    plt.savefig(OUTDIR / 'degree_histograms.png')\n",
        "    plt.savefig(OUTDIR / 'degree_histograms.svg')\n",
        "except ModuleNotFoundError:\n",
        "    print('matplotlib bulunamadı; görselleştirme atlandı.')"
      ]
    },
    {
      "cell_type": "markdown",
      "metadata": {},
      "source": [
        "## 11) Korelasyonlar (Dağılım Grafikleri)",
        "",
        "In-degree vs Betweenness ve In-degree vs Out-degree."
      ]
    },
    {
      "cell_type": "code",
      "execution_count": null,
      "metadata": {},
      "outputs": [],
      "source": [
        "try:\n",
        "    import matplotlib.pyplot as plt\n",
        "    import numpy as np\n",
        "    nodes_list = list(G.nodes())\n",
        "    x_in = np.array([in_deg.get(n,0) for n in nodes_list])\n",
        "    y_btw = np.array([btw.get(n,0.0) for n in nodes_list])\n",
        "    y_out = np.array([out_deg.get(n,0) for n in nodes_list])\n",
        "    fig, ax = plt.subplots(1,2, figsize=(12,4), dpi=150)\n",
        "    ax[0].scatter(x_in, y_btw, s=10, alpha=0.6, color='tab:orange')\n",
        "    ax[0].set_title('In-Degree vs Betweenness')\n",
        "    ax[0].set_xlabel('In-Degree'); ax[0].set_ylabel('Betweenness')\n",
        "    ax[1].scatter(x_in, y_out, s=10, alpha=0.6, color='tab:green')\n",
        "    ax[1].set_title('In-Degree vs Out-Degree')\n",
        "    ax[1].set_xlabel('In-Degree'); ax[1].set_ylabel('Out-Degree')\n",
        "    plt.tight_layout()\n",
        "    plt.savefig(OUTDIR / 'scatter_correlations.png')\n",
        "    plt.savefig(OUTDIR / 'scatter_correlations.svg')\n",
        "except ModuleNotFoundError:\n",
        "    print('matplotlib bulunamadı; görselleştirme atlandı.')"
      ]
    },
    {
      "cell_type": "markdown",
      "metadata": {},
      "source": [
        "## 12) Bağlanırlık ve Bileşenler",
        "",
        "Zayıf bağlanırlık bileşenleri ve temel ağ istatistikleri."
      ]
    },
    {
      "cell_type": "code",
      "execution_count": null,
      "metadata": {},
      "outputs": [],
      "source": [
        "import json\n",
        "import networkx as nx\n",
        "W = G.to_undirected()\n",
        "components = list(nx.connected_components(W))\n",
        "components_sizes = sorted([len(c) for c in components], reverse=True)\n",
        "stats = {\n",
        "    'nodes': G.number_of_nodes(),\n",
        "    'edges': G.number_of_edges(),\n",
        "    'components_count': len(components),\n",
        "    'largest_component_size': components_sizes[0] if components_sizes else 0,\n",
        "    'avg_in_degree': (sum(in_deg.values())/len(in_deg)) if in_deg else 0,\n",
        "    'avg_out_degree': (sum(out_deg.values())/len(out_deg)) if out_deg else 0,\n",
        "}\n",
        "(OUTDIR / 'graph_stats.json').write_text(json.dumps(stats, ensure_ascii=False, indent=2), encoding='utf-8')\n",
        "stats"
      ]
    },
    {
      "cell_type": "markdown",
      "metadata": {},
      "source": [
        "## 13) Köprü Kenarlar (Edge Betweenness)",
        "",
        "En yüksek edge betweenness değerine sahip 10 kenarı çıkaralım."
      ]
    },
    {
      "cell_type": "code",
      "execution_count": null,
      "metadata": {},
      "outputs": [],
      "source": [
        "import csv\n",
        "import networkx as nx\n",
        "eb = nx.edge_betweenness_centrality(G, normalized=True)\n",
        "top_edges = sorted(eb.items(), key=lambda kv: kv[1], reverse=True)[:10]\n",
        "with (OUTDIR / 'edge_betweenness_top10.csv').open('w', newline='', encoding='utf-8') as f:\n",
        "    w = csv.writer(f); w.writerow(['u','v','edge_betweenness'])\n",
        "    [w.writerow([u,v, f'{val:.6f}']) for (u,v), val in top_edges]\n",
        "top_edges"
      ]
    }
  ],
  "metadata": {
    "kernelspec": {
      "display_name": "Python 3",
      "language": "python",
      "name": "python3"
    },
    "language_info": {
      "name": "python"
    }
  },
  "nbformat": 4,
  "nbformat_minor": 5
}