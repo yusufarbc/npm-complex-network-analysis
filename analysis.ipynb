{
  "cells": [
    {
      "cell_type": "markdown",
      "metadata": {},
      "source": [
        "# NPM Complex Network Analysis (Top-N)\n",
        "\n",
        "Bu notebook, NPM ekosistemindeki paketleri yönlü bir ağ (Dependent → Dependency) olarak modelleyip, merkeziyet metrikleri ile yapısal riski analiz eder.\n",
        "\n",
        "Hedefler:\n",
        "- Top-N (ör. 200) paket listesini indirmek (downloads’a göre)\n",
        "- `Dependent → Dependency` yönünde bir `DiGraph` kurmak\n",
        "- In-degree ve betweenness centrality hesaplamak\n",
        "- Sonuçları tablo ve dosya olarak kaydetmek\n",
        "\n",
        "Not: Büyük N (örn. 20k) için bağımlılık çekme ve betweenness hesaplaması maliyetlidir; bu notebook N=200 civarında etkileşimli çalışmaya uygundur."
      ]
    },
    {
      "cell_type": "markdown",
      "metadata": {},
      "source": [
        "## 1) Kurulum\n",
        "Gerekli bağımlılıkları yükleyelim. Eğer sanal ortam kullanıyorsanız, önce etkinleştirin."
      ]
    },
    {
      "cell_type": "code",
      "execution_count": null,
      "metadata": {},
      "outputs": [],
      "source": [
        "%pip install -q -r requirements.txt"
      ]
    },
    {
      "cell_type": "markdown",
      "metadata": {},
      "source": [
        "## 2) İçe Aktarım ve Parametreler\n",
        "Var olan yardımcı fonksiyonları `src/analyze_npm_network.py` içinden kullanacağız."
      ]
    },
    {
      "cell_type": "code",
      "execution_count": null,
      "id": "81158fac",
      "metadata": {},
      "outputs": [],
      "source": [
        "from pathlib import Path\n",
        "import sys\n",
        "import os\n",
        "\n",
        "# src altını import yoluna ekle\n",
        "sys.path.append(str(Path('src').resolve()))\n",
        "\n",
        "import networkx as nx\n",
        "from analyze_npm_network import (\n",
        "    fetch_top_packages,\n",
        "    build_dependency_graph,\n",
        "    compute_metrics,\n",
        "    save_edges,\n",
        "    save_metrics,\n",
        "    save_report,\n",
        ")\n",
        "\n",
        "# Tercihen sabit Top 200 listesi\n",
        "INPUT_LIST = Path('data/top_200.txt')\n",
        "USE_INPUT_LIST = INPUT_LIST.exists()\n",
        "TOP_N = 200  # fetching fallback\n",
        "OUTDIR = Path('results')\n",
        "OUTDIR.mkdir(parents=True, exist_ok=True)\n",
        "OUTDIR"
      ]
    },
    {
      "cell_type": "markdown",
      "metadata": {},
      "source": [
        "## 3) Top-N Paketleri Getir\n",
        "Önce indirme sayısına göre sıralı Top-N listeyi çekiyoruz. Ecosystems API öncelikli, gerekirse yedek kaynaklar kullanılır."
      ]
    },
    {
      "cell_type": "code",
      "execution_count": null,
      "metadata": {},
      "outputs": [],
      "source": [
        "if USE_INPUT_LIST:\n",
        "    from analyze_npm_network import read_list\n",
        "    top_packages = read_list(INPUT_LIST)\n",
        "    print(f'Loaded {len(top_packages)} from {INPUT_LIST}')\n",
        "else:\n",
        "    top_packages = fetch_top_packages(TOP_N)\n",
        "    print(f'Fetched {len(top_packages)} from API(s)')\n",
        "len(top_packages), top_packages[:20]"
      ]
    },
    {
      "cell_type": "markdown",
      "metadata": {},
      "source": [
        "## 4) Ağın Kurulması (Directed)\n",
        "Düğümler: paketler; Kenarlar: `Dependent → Dependency`."
      ]
    },
    {
      "cell_type": "code",
      "execution_count": null,
      "metadata": {},
      "outputs": [],
      "source": [
        "G, top_set = build_dependency_graph(top_packages)\n",
        "G.number_of_nodes(), G.number_of_edges()"
      ]
    },
    {
      "cell_type": "markdown",
      "metadata": {},
      "source": [
        "## 5) Merkeziyet Metrikleri\n",
        "In-degree (pakete gelen kenar sayısı) ve betweenness (en kısa yollardaki aracı rol) hesaplanır."
      ]
    },
    {
      "cell_type": "code",
      "execution_count": null,
      "metadata": {},
      "outputs": [],
      "source": [
        "in_deg, btw = compute_metrics(G)\n",
        "# Özet\n",
        "nodes = G.number_of_nodes()\n",
        "edges = G.number_of_edges()\n",
        "nodes, edges"
      ]
    },
    {
      "cell_type": "markdown",
      "metadata": {},
      "source": [
        "## 6) İlk 15 – In-Degree ve Betweenness\n",
        "Top listeleri hızlıca görelim."
      ]
    },
    {
      "cell_type": "code",
      "execution_count": null,
      "metadata": {},
      "outputs": [],
      "source": [
        "top_in_all = sorted(in_deg.items(), key=lambda kv: kv[1], reverse=True)[:15]\n",
        "top_btw_all = sorted(btw.items(), key=lambda kv: kv[1], reverse=True)[:15]\n",
        "\n",
        "top_in_top = sorted(((n, in_deg.get(n, 0)) for n in top_set), key=lambda kv: kv[1], reverse=True)[:15]\n",
        "top_btw_top = sorted(((n, btw.get(n, 0.0)) for n in top_set), key=lambda kv: kv[1], reverse=True)[:15]\n",
        "\n",
        "top_in_all, top_btw_all, top_in_top, top_btw_top"
      ]
    },
    {
      "cell_type": "markdown",
      "metadata": {},
      "source": [
        "## 7) Sonuçları Kaydet\n",
        "Kenarlıklar, metrikler ve kısa raporu dosyaya yazalım."
      ]
    },
    {
      "cell_type": "code",
      "execution_count": null,
      "metadata": {},
      "outputs": [],
      "source": [
        "save_edges(G, OUTDIR / 'edges.csv')\n",
        "save_metrics(in_deg, btw, top_set, OUTDIR / 'metrics.csv')\n",
        "save_report(in_deg, btw, top_set, OUTDIR / 'report.md')\n",
        "(OUTDIR / 'top_packages.txt').write_text(os.linesep.join(top_packages), encoding='utf-8')\n",
        "sorted(OUTDIR.iterdir())"
      ]
    },
    {
      "cell_type": "markdown",
      "metadata": {},
      "source": [
        "## 8) (Opsiyonel) Küçük Görselleştirme\n",
        "Büyük grafikleri çizmek zor olabilir; küçük bir alt-ağ (ör. en yüksek in-degree düğümünün ego grafiği) çizilebilir."
      ]
    },
    {
      "cell_type": "code",
      "execution_count": null,
      "metadata": {},
      "outputs": [],
      "source": [
        "%pip install -q matplotlib"
      ]
    },
    {
      "cell_type": "code",
      "execution_count": null,
      "metadata": {},
      "outputs": [],
      "source": [
        "# En yüksek in-degree sahibi düğüm\n",
        "hub, _ = max(in_deg.items(), key=lambda kv: kv[1]) if in_deg else (None, None)\n",
        "hub"
      ]
    },
    {
      "cell_type": "code",
      "execution_count": null,
      "metadata": {},
      "outputs": [],
      "source": [
        "# Hub etrafında küçük bir alt-ağ çizimi\n",
        "try:\n",
        "    import matplotlib.pyplot as plt\n",
        "    if hub is not None:\n",
        "        neighbors = set(G.predecessors(hub)) | set(G.successors(hub)) | {hub}\n",
        "        H = G.subgraph(neighbors).copy()\n",
        "        pos = nx.spring_layout(H, seed=42)\n",
        "        plt.figure(figsize=(8, 6))\n",
        "        nx.draw_networkx_nodes(H, pos, node_size=200, alpha=0.8)\n",
        "        nx.draw_networkx_edges(H, pos, alpha=0.3, arrows=True, arrowsize=10)\n",
        "        nx.draw_networkx_labels(H, pos, font_size=8)\n",
        "        plt.axis('off')\n",
        "        plt.show()\n",
        "    else:\n",
        "        print('Görselleştirilecek hub bulunamadı.')\n",
        "except ModuleNotFoundError:\n",
        "    print('matplotlib bulunamadı; görselleştirme atlandı.')"
      ]
    },
    {
      "cell_type": "markdown",
      "metadata": {},
      "source": [
        "## 10) Top 200 Ağ Çizimi (Tüm Düğümler Dahil)",
        "Tüm grafiği (Top 200 + bağımlılıkları) çizelim. Top 200 düğümlerini farklı renkte gösteriyoruz ve düğüm boyutlarını in-degree ile ölçekliyoruz."
      ]
    },
    {
      "cell_type": "code",
      "execution_count": null,
      "metadata": {},
      "outputs": [],
      "source": [
        "import math",
        "import matplotlib.pyplot as plt",
        "",
        "# Yerleşim ve görselleştirme parametreleri",
        "N = G.number_of_nodes()",
        "pos = nx.spring_layout(G, k=1/math.sqrt(max(N,1)), seed=42)",
        "",
        "# Düğüm boyutları: in-degree tabanlı",
        "max_in = max(in_deg.values()) if in_deg else 1",
        "node_sizes = [ 100 + (400 * (in_deg.get(n,0) / max_in if max_in else 0)) for n in G.nodes() ]",
        "",
        "# Renk: Top 200 turuncu, diğerleri mavi",
        "node_colors = [ \"tab:orange\" if n in top_set else \"tab:blue\" for n in G.nodes() ]",
        "",
        "plt.figure(figsize=(12, 9), dpi=150)",
        "nx.draw_networkx_edges(G, pos, arrows=False, width=0.5, alpha=0.25)",
        "nx.draw_networkx_nodes(G, pos, node_size=node_sizes, node_color=node_colors, alpha=0.85, linewidths=0.2, edgecolors=\"#444444\")",
        "plt.title(\"NPM Top 200 Bağımlılık Ağı (Tümü)\")",
        "plt.axis(\"off\")",
        "out_png = OUTDIR / \"network_full_top200.png\"",
        "out_svg = OUTDIR / \"network_full_top200.svg\"",
        "plt.tight_layout()",
        "plt.savefig(out_png)",
        "plt.savefig(out_svg)",
        "out_png, out_svg"
      ]
    },
    {
      "cell_type": "markdown",
      "metadata": {},
      "source": [
        "## 11) Top 200 Kohortu Ağ Çizimi (Sadece Top 200)",
        "Top 200 düğümlerin oluşturduğu indüklenmiş alt-ağı çizelim."
      ]
    },
    {
      "cell_type": "code",
      "execution_count": null,
      "metadata": {},
      "outputs": [],
      "source": [
        "H = G.subgraph(top_set).copy()",
        "HN = H.number_of_nodes() or 1",
        "posH = nx.spring_layout(H, k=1/math.sqrt(HN), seed=42)",
        "max_in_H = max((in_deg.get(n,0) for n in H.nodes()), default=1)",
        "node_sizes_H = [ 120 + (480 * (in_deg.get(n,0) / max_in_H if max_in_H else 0)) for n in H.nodes() ]",
        "node_colors_H = [ \"tab:orange\" for _ in H.nodes() ]",
        "plt.figure(figsize=(10, 8), dpi=150)",
        "nx.draw_networkx_edges(H, posH, arrows=False, width=0.6, alpha=0.35)",
        "nx.draw_networkx_nodes(H, posH, node_size=node_sizes_H, node_color=node_colors_H, alpha=0.9, linewidths=0.2, edgecolors=\"#444444\")",
        "# İsteğe bağlı: az sayıda düğüm varsa etiketleri göster",
        "if H.number_of_nodes() <= 60:",
        "    nx.draw_networkx_labels(H, posH, font_size=6)",
        "plt.title(\"NPM Top 200 Bağımlılık Ağı (Sadece Top 200)\")",
        "plt.axis(\"off\")",
        "out_png2 = OUTDIR / \"network_top200_only.png\"",
        "out_svg2 = OUTDIR / \"network_top200_only.svg\"",
        "plt.tight_layout()",
        "plt.savefig(out_png2)",
        "plt.savefig(out_svg2)",
        "out_png2, out_svg2"
      ]
    }
  ],
  "metadata": {
    "kernelspec": {
      "display_name": "Python 3",
      "language": "python",
      "name": "python3"
    },
    "language_info": {
      "codemirror_mode": {
        "name": "ipython",
        "version": 3
      },
      "file_extension": ".py",
      "mimetype": "text/x-python",
      "name": "python",
      "nbconvert_exporter": "python",
      "pygments_lexer": "ipython3",
      "version": "3.11.9"
    }
  },
  "nbformat": 4,
  "nbformat_minor": 5
}
